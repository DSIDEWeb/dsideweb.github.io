{
 "cells": [
  {
   "cell_type": "code",
   "execution_count": 1,
   "metadata": {
    "collapsed": true
   },
   "outputs": [],
   "source": [
    "import pandas as pd"
   ]
  },
  {
   "cell_type": "code",
   "execution_count": 2,
   "metadata": {},
   "outputs": [
    {
     "name": "stdout",
     "output_type": "stream",
     "text": [
      "Populating the interactive namespace from numpy and matplotlib\n"
     ]
    }
   ],
   "source": [
    "%pylab inline"
   ]
  },
  {
   "cell_type": "code",
   "execution_count": 4,
   "metadata": {
    "collapsed": true
   },
   "outputs": [],
   "source": [
    "plt.style.use('ggplot')\n",
    "#Some default stuff for my plotting\n",
    "aspect_mult = 0.9\n",
    "figsize(aspect_mult*16,aspect_mult*9)\n",
    "linewidth = 3"
   ]
  },
  {
   "cell_type": "code",
   "execution_count": 5,
   "metadata": {
    "collapsed": true
   },
   "outputs": [],
   "source": [
    "df = pd.read_csv(\"data/universities_2017.csv\")"
   ]
  },
  {
   "cell_type": "code",
   "execution_count": 6,
   "metadata": {},
   "outputs": [
    {
     "data": {
      "text/html": [
       "<div>\n",
       "<style scoped>\n",
       "    .dataframe tbody tr th:only-of-type {\n",
       "        vertical-align: middle;\n",
       "    }\n",
       "\n",
       "    .dataframe tbody tr th {\n",
       "        vertical-align: top;\n",
       "    }\n",
       "\n",
       "    .dataframe thead th {\n",
       "        text-align: right;\n",
       "    }\n",
       "</style>\n",
       "<table border=\"1\" class=\"dataframe\">\n",
       "  <thead>\n",
       "    <tr style=\"text-align: right;\">\n",
       "      <th></th>\n",
       "      <th>University</th>\n",
       "    </tr>\n",
       "  </thead>\n",
       "  <tbody>\n",
       "    <tr>\n",
       "      <th>0</th>\n",
       "      <td>SU</td>\n",
       "    </tr>\n",
       "    <tr>\n",
       "      <th>1</th>\n",
       "      <td>SPU</td>\n",
       "    </tr>\n",
       "    <tr>\n",
       "      <th>2</th>\n",
       "      <td>WSU</td>\n",
       "    </tr>\n",
       "    <tr>\n",
       "      <th>3</th>\n",
       "      <td>UP</td>\n",
       "    </tr>\n",
       "    <tr>\n",
       "      <th>4</th>\n",
       "      <td>UP</td>\n",
       "    </tr>\n",
       "  </tbody>\n",
       "</table>\n",
       "</div>"
      ],
      "text/plain": [
       "  University\n",
       "0         SU\n",
       "1        SPU\n",
       "2        WSU\n",
       "3         UP\n",
       "4         UP"
      ]
     },
     "execution_count": 6,
     "metadata": {},
     "output_type": "execute_result"
    }
   ],
   "source": [
    "df.head()"
   ]
  },
  {
   "cell_type": "code",
   "execution_count": 7,
   "metadata": {
    "collapsed": true
   },
   "outputs": [],
   "source": [
    "result = df.groupby('University').size()"
   ]
  },
  {
   "cell_type": "code",
   "execution_count": 8,
   "metadata": {},
   "outputs": [
    {
     "data": {
      "text/plain": [
       "University\n",
       "AIMS        1\n",
       "AIMS/UCT    1\n",
       "MU          1\n",
       "NWU         2\n",
       "RU          1\n",
       "SMU         5\n",
       "SPU         2\n",
       "SU          1\n",
       "TUT         1\n",
       "UCT         3\n",
       "UJ          1\n",
       "UKZN        2\n",
       "UL          8\n",
       "UNISA       2\n",
       "UNIVEN      1\n",
       "UNIZUL      1\n",
       "UP          8\n",
       "UWC         1\n",
       "WITS        3\n",
       "WSU         1\n",
       "dtype: int64"
      ]
     },
     "execution_count": 8,
     "metadata": {},
     "output_type": "execute_result"
    }
   ],
   "source": [
    "result.sort_index()"
   ]
  },
  {
   "cell_type": "code",
   "execution_count": 9,
   "metadata": {},
   "outputs": [
    {
     "data": {
      "text/plain": [
       "University\n",
       "AIMS        1\n",
       "AIMS/UCT    1\n",
       "MU          1\n",
       "NWU         2\n",
       "RU          1\n",
       "SMU         5\n",
       "SPU         2\n",
       "SU          1\n",
       "TUT         1\n",
       "UCT         3\n",
       "UJ          1\n",
       "UKZN        2\n",
       "UL          8\n",
       "UNISA       2\n",
       "UNIVEN      1\n",
       "UNIZUL      1\n",
       "UP          8\n",
       "UWC         1\n",
       "WITS        3\n",
       "WSU         1\n",
       "dtype: int64"
      ]
     },
     "execution_count": 9,
     "metadata": {},
     "output_type": "execute_result"
    }
   ],
   "source": [
    "result"
   ]
  },
  {
   "cell_type": "code",
   "execution_count": 10,
   "metadata": {},
   "outputs": [
    {
     "data": {
      "text/plain": [
       "Index([u'AIMS', u'AIMS/UCT', u'MU', u'NWU', u'RU', u'SMU', u'SPU', u'SU',\n",
       "       u'TUT', u'UCT', u'UJ', u'UKZN', u'UL', u'UNISA', u'UNIVEN', u'UNIZUL',\n",
       "       u'UP', u'UWC', u'WITS', u'WSU'],\n",
       "      dtype='object', name=u'University')"
      ]
     },
     "execution_count": 10,
     "metadata": {},
     "output_type": "execute_result"
    }
   ],
   "source": [
    "result.keys()"
   ]
  },
  {
   "cell_type": "code",
   "execution_count": 11,
   "metadata": {},
   "outputs": [
    {
     "data": {
      "image/png": "[encoded data removed]",
      "text/plain": [
       "<matplotlib.figure.Figure at 0x10d3b5810>"
      ]
     },
     "metadata": {},
     "output_type": "display_data"
    }
   ],
   "source": [
    "plt.barh(range(result.shape[0]),result.values)\n",
    "plt.yticks(np.arange(result.shape[0])+0.4,result.keys(), rotation=0,fontsize=14)\n",
    "plt.xlim(0,max(result)+1)\n",
    "plt.title(\"DSIDE 2017/2018 University Representation\",fontsize=18, color = 'k')\n",
    "plt.ylabel(\"Universities\",fontsize=16, color = 'k')\n",
    "plt.xlabel(\"Number of Students\",fontsize=16, color = 'k')\n",
    "pyplot.savefig('../images/2017-universities.png',bbox_inches='tight')"
   ]
  },
  {
   "cell_type": "code",
   "execution_count": null,
   "metadata": {
    "collapsed": true
   },
   "outputs": [],
   "source": []
  }
 ],
 "metadata": {
  "kernelspec": {
   "display_name": "Python [default]",
   "language": "python",
   "name": "python2"
  },
  "language_info": {
   "codemirror_mode": {
    "name": "ipython",
    "version": 2
   },
   "file_extension": ".py",
   "mimetype": "text/x-python",
   "name": "python",
   "nbconvert_exporter": "python",
   "pygments_lexer": "ipython2",
   "version": "2.7.13"
  },
  "widgets": {
   "state": {},
   "version": "1.1.2"
  }
 },
 "nbformat": 4,
 "nbformat_minor": 1
}
